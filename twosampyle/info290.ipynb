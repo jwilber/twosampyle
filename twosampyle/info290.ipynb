{
 "cells": [
  {
   "cell_type": "code",
   "execution_count": 64,
   "metadata": {
    "collapsed": true
   },
   "outputs": [],
   "source": [
    "import numpy as np\n",
    "import pandas as pd\n",
    "import matplotlib.pyplot as plt\n",
    "import matplotlib.cm as cm, matplotlib.font_manager as fm\n",
    "%matplotlib inline"
   ]
  },
  {
   "cell_type": "code",
   "execution_count": 65,
   "metadata": {},
   "outputs": [
    {
     "name": "stdout",
     "output_type": "stream",
     "text": [
      "   trt1  trt2\n",
      "0     1    40\n",
      "1     2    50\n",
      "2     3    60\n",
      "3     4    70\n",
      "4     5    70\n",
      "5     6    60\n",
      "6     7    50\n",
      "7     8    30\n",
      "8     9    40\n",
      "9    10    20\n"
     ]
    }
   ],
   "source": [
    "data = {\"trt1\": [1,2,3,4,5,6,7,8,9,10], \"trt2\": [40,50,60,70,70,60,50,30,40,20]}\n",
    "df = pd.DataFrame(data)\n",
    "print(df)"
   ]
  },
  {
   "cell_type": "markdown",
   "metadata": {},
   "source": [
    "# utils functions"
   ]
  },
  {
   "cell_type": "code",
   "execution_count": 88,
   "metadata": {
    "collapsed": true
   },
   "outputs": [],
   "source": [
    "# define the font styles\n",
    "title_font = fm.FontProperties(family='serif', style='normal', size=19, weight='normal', stretch='normal')\n",
    "label_font = fm.FontProperties(family='serif', style='normal', size=16, weight='normal', stretch='normal')\n",
    "ticks_font = fm.FontProperties(family='serif', style='normal', size=10, weight='normal', stretch='normal')\n",
    "annotation_font = fm.FontProperties(family='serif', style='normal', size=10, weight='normal', stretch='normal')\n",
    "axis_bgcolor = 'white'\n",
    "# make a re-usable function to draw nice bar charts\n",
    "def plot_hist(data, title='', xlabel='Test Statistic Values', ylabel='Frequency', color='red'):\n",
    "    \n",
    "    if type(data) == list:\n",
    "        data = pd.Series(data)\n",
    "    ax = data.hist(figsize=[9, 6], width=0.35, alpha=0.5, \n",
    "                   color=color, edgecolor='k', grid=False, rwidth=.9)\n",
    "\n",
    "    ax.set_xticklabels(data.index, rotation=45, rotation_mode='anchor', ha='right')\n",
    "    ax.yaxis.grid(True)\n",
    "    #for label in ax.get_yticklabels():\n",
    "    #    label.set_fontproperties(ticks_font)\n",
    "    ax.spines['top'].set_visible(False)\n",
    "    ax.spines['right'].set_visible(False)\n",
    "    ax.grid(False)\n",
    "    ax.set_facecolor(axis_bgcolor)   \n",
    "    ax.set_title(title, fontproperties=title_font)\n",
    "    ax.set_xlabel(xlabel, fontproperties=label_font)\n",
    "    ax.set_ylabel(ylabel, fontproperties=label_font)\n",
    "\n",
    "    plt.show()"
   ]
  },
  {
   "cell_type": "code",
   "execution_count": null,
   "metadata": {
    "collapsed": true
   },
   "outputs": [],
   "source": [
    "ax2 = fig.add_subplot(2,1,2)\n",
    "    ax2.hist(dem_electoral, 22, alpha=0.7, label='Democrat',rwidth=.9, color='#0099ff')\n",
    "    ax2.axvline(x=269, c='k', linewidth=7)\n",
    "    ax2.set_title(\"Histogram of Electoral Votes: Democrats\", fontsize=20, **hfont)\n",
    "    ax2.grid(False)\n",
    "    ax2.set_xlabel('Number of Electoral Votes', fontsize=15)\n",
    "    ax2.set_ylabel('Frequency', fontsize=14)\n",
    "    ax2.spines['top'].set_visible(False)\n",
    "    ax2.spines['right'].set_visible(False)\n",
    "    ax2.set_xlim(200,335)\n"
   ]
  },
  {
   "cell_type": "markdown",
   "metadata": {},
   "source": [
    "Now our data is formatted in the format we want.\n",
    "\n",
    "We just need to write `pd.category` specific test statistics functions.\n",
    "\n",
    "\n",
    "That said, this is a big limitation. We should see if we can write it in other ways. It would be better to have test statistic functions that just use '**group_a** and **group_b** as inputs.\n",
    "\n",
    "The above can be done. I should re-write format so that it includes "
   ]
  },
  {
   "cell_type": "code",
   "execution_count": 6,
   "metadata": {
    "collapsed": true
   },
   "outputs": [],
   "source": [
    "def diff_means3(data, response, treatment):\n",
    "    trt1 = data[treatment].cat.categories[0]\n",
    "    trt2 = data[treatment].cat.categories[1]\n",
    "    mean_diff = data[response][data[treatment]==trt1].mean() - data[response][data[treatment]==trt2].mean()\n",
    "    return mean_diff"
   ]
  },
  {
   "cell_type": "markdown",
   "metadata": {},
   "source": [
    "# Permutation Test"
   ]
  },
  {
   "cell_type": "markdown",
   "metadata": {},
   "source": [
    "To do:\n",
    "    Format data initialization so that the formatted data is automatic.\n",
    "    This will require changing default arguments in `format_data_from_two_response`"
   ]
  },
  {
   "cell_type": "code",
   "execution_count": 93,
   "metadata": {
    "collapsed": true
   },
   "outputs": [],
   "source": [
    "class PermTest(object):\n",
    "    \n",
    "    \n",
    "    def __init__(self, data):\n",
    "        \"\"\"\"\"\"\n",
    "        self.data = data\n",
    "        self.formatted_data = None\n",
    "        \n",
    "        \n",
    "        \n",
    "    def format_data(self, response1=None, response2=None):\n",
    "        \"\"\"\n",
    "        Converts data from a 2-column format (where each column refers to a treatment type) to\n",
    "        a 2-column format where response is one column, treatment is the other.\n",
    "\n",
    "        This is done for both efficiency of storage and test runtime.\n",
    "\n",
    "        :param data: pandas DataFrame. each column must be of same length\n",
    "        :return: pandas DataFrame in response, treatment format\n",
    "        \"\"\"\n",
    "        # create new treatment Series\n",
    "        \n",
    "        if (response1==None) and (response2==None):\n",
    "            # No columns specified, so default to first 2\n",
    "            \n",
    "            nrow, ncol = self.data.iloc[:,[0,1]].shape\n",
    "            treatment_column = pd.Series([self.data.iloc[:,[0,1]].columns.values[i]\n",
    "                            for i in range(ncol)\n",
    "                            for j in range(nrow)], dtype='category')\n",
    "            response_column = pd.concat([self.data.iloc[:,0],\n",
    "                                         self.data.iloc[:,1]]).tolist()\n",
    "        else:\n",
    "            \n",
    "            nrow, ncol = self.data.loc[:,[response1,response2]].shape\n",
    "            treatment_column = pd.Series([self.data.loc[:,[response1,response2]].columns.values[i]\n",
    "                            for i in range(ncol)\n",
    "                            for j in range(nrow)], dtype='category')\n",
    "            response_column = pd.concat([self.data.loc[:,response1],\n",
    "                                         self.data.loc[:,response2]]).tolist()\n",
    "\n",
    "        self.formatted_data = pd.DataFrame({\"response\": response_column,\n",
    "                                      \"treatment\": treatment_column})\n",
    "\n",
    "        \n",
    "                \n",
    "            \n",
    "    def diff_means(self, response=\"response\", treatment=\"treatment\", data=None):\n",
    "        \"\"\"\"\"\"\n",
    "        if data is None:\n",
    "            trt1 = self.formatted_data[treatment].cat.categories[0]\n",
    "            trt2 = self.formatted_data[treatment].cat.categories[1]\n",
    "\n",
    "            mean_diff = self.formatted_data[response][self.formatted_data[treatment]==trt1].mean() \\\n",
    "            - self.formatted_data[response][self.formatted_data[treatment]==trt2].mean()\n",
    "\n",
    "            return mean_diff\n",
    "        else:\n",
    "            trt1 = data[treatment].cat.categories[0]\n",
    "            trt2 = data[treatment].cat.categories[1]\n",
    "\n",
    "            mean_diff = data[response][data[treatment]==trt1].mean() \\\n",
    "            - data[response][data[treatment]==trt2].mean()\n",
    "\n",
    "            return mean_diff\n",
    "    \n",
    "    \n",
    "    def simPermDsn(self, response=\"response\", treatment=\"treatment\", test=\"mean\", k=100):\n",
    "        \"\"\"\n",
    "        Creates permutation dsn for our data\n",
    "        :param data:\n",
    "        :param hasTrt:\n",
    "        :param testStat:\n",
    "        :param k:\n",
    "        :return:\n",
    "        \"\"\"\n",
    "        df = self.formatted_data[:]\n",
    "        testStatistics = []\n",
    "        if test == \"mean\":\n",
    "            for simulation in range(k):\n",
    "                df[treatment] = pd.Series(np.random.permutation(self.formatted_data[treatment]),\n",
    "                                            dtype='category')\n",
    "                testStatistics.append(self.diff_means(response=response, treatment=treatment, data=df))\n",
    "\n",
    "            return testStatistics\n",
    "        \n",
    "    def pvalue(self, response=\"response\", treatment=\"treatment\", test=\"mean\", k=100):\n",
    "        \"\"\"Returns p-value for test\"\"\"\n",
    "        if test == \"mean\":\n",
    "            current_stat = self.diff_means(response=response, treatment=treatment)\n",
    "\n",
    "            simulated_stats = self.simPermDsn(response=response, treatment=treatment, test=test, k=k)\n",
    "            simulated_stats = np.array(simulated_stats)\n",
    "            p_value = 1.0 * sum(abs(simulated_stats) >= abs(current_stat))/k\n",
    "\n",
    "            return p_value\n",
    "        \n",
    "    def plot_dsn(self, response=\"response\", treatment=\"treatment\", test=\"mean\", k=100):\n",
    "        \"\"\"Plots distribution of test statistics\"\"\"\n",
    "        simulated_stats = self.simPermDsn(response=response, treatment=treatment, test=test, k=k)\n",
    "        tit = \"Permutated Test Statistic Distribution for k={} Simulations\".format(k)\n",
    "        plot_hist(simulated_stats, title=tit, xlabel=\"Test Statistic Value\", ylabel=\"Frequency\")\n",
    "\n",
    "    "
   ]
  },
  {
   "cell_type": "markdown",
   "metadata": {},
   "source": [
    "Create data"
   ]
  },
  {
   "cell_type": "code",
   "execution_count": 94,
   "metadata": {},
   "outputs": [
    {
     "data": {
      "text/html": [
       "<div>\n",
       "<table border=\"1\" class=\"dataframe\">\n",
       "  <thead>\n",
       "    <tr style=\"text-align: right;\">\n",
       "      <th></th>\n",
       "      <th>treatment1</th>\n",
       "      <th>treatment2</th>\n",
       "    </tr>\n",
       "  </thead>\n",
       "  <tbody>\n",
       "    <tr>\n",
       "      <th>0</th>\n",
       "      <td>1.5</td>\n",
       "      <td>1.0</td>\n",
       "    </tr>\n",
       "    <tr>\n",
       "      <th>1</th>\n",
       "      <td>2.0</td>\n",
       "      <td>5.0</td>\n",
       "    </tr>\n",
       "    <tr>\n",
       "      <th>2</th>\n",
       "      <td>5.0</td>\n",
       "      <td>4.0</td>\n",
       "    </tr>\n",
       "    <tr>\n",
       "      <th>3</th>\n",
       "      <td>0.5</td>\n",
       "      <td>3.0</td>\n",
       "    </tr>\n",
       "    <tr>\n",
       "      <th>4</th>\n",
       "      <td>4.0</td>\n",
       "      <td>5.0</td>\n",
       "    </tr>\n",
       "    <tr>\n",
       "      <th>5</th>\n",
       "      <td>6.6</td>\n",
       "      <td>6.0</td>\n",
       "    </tr>\n",
       "    <tr>\n",
       "      <th>6</th>\n",
       "      <td>4.5</td>\n",
       "      <td>4.0</td>\n",
       "    </tr>\n",
       "    <tr>\n",
       "      <th>7</th>\n",
       "      <td>3.0</td>\n",
       "      <td>3.0</td>\n",
       "    </tr>\n",
       "    <tr>\n",
       "      <th>8</th>\n",
       "      <td>4.0</td>\n",
       "      <td>4.5</td>\n",
       "    </tr>\n",
       "    <tr>\n",
       "      <th>9</th>\n",
       "      <td>2.5</td>\n",
       "      <td>3.2</td>\n",
       "    </tr>\n",
       "  </tbody>\n",
       "</table>\n",
       "</div>"
      ],
      "text/plain": [
       "   treatment1  treatment2\n",
       "0         1.5         1.0\n",
       "1         2.0         5.0\n",
       "2         5.0         4.0\n",
       "3         0.5         3.0\n",
       "4         4.0         5.0\n",
       "5         6.6         6.0\n",
       "6         4.5         4.0\n",
       "7         3.0         3.0\n",
       "8         4.0         4.5\n",
       "9         2.5         3.2"
      ]
     },
     "execution_count": 94,
     "metadata": {},
     "output_type": "execute_result"
    }
   ],
   "source": [
    "data = pd.DataFrame({\"treatment1\":[1.5, 2, 5, 0.5, 4, 6.6, 4.5, 3, 4, 2.5],\n",
    "                     \"treatment2\":[1, 5, 4, 3, 5, 6, 4, 3, 4.5, 3.2]})\n",
    "data"
   ]
  },
  {
   "cell_type": "markdown",
   "metadata": {},
   "source": [
    "Create PermTest instance and formate data"
   ]
  },
  {
   "cell_type": "code",
   "execution_count": 95,
   "metadata": {},
   "outputs": [
    {
     "data": {
      "text/html": [
       "<div>\n",
       "<table border=\"1\" class=\"dataframe\">\n",
       "  <thead>\n",
       "    <tr style=\"text-align: right;\">\n",
       "      <th></th>\n",
       "      <th>response</th>\n",
       "      <th>treatment</th>\n",
       "    </tr>\n",
       "  </thead>\n",
       "  <tbody>\n",
       "    <tr>\n",
       "      <th>0</th>\n",
       "      <td>1.5</td>\n",
       "      <td>treatment1</td>\n",
       "    </tr>\n",
       "    <tr>\n",
       "      <th>1</th>\n",
       "      <td>2.0</td>\n",
       "      <td>treatment1</td>\n",
       "    </tr>\n",
       "    <tr>\n",
       "      <th>2</th>\n",
       "      <td>5.0</td>\n",
       "      <td>treatment1</td>\n",
       "    </tr>\n",
       "    <tr>\n",
       "      <th>3</th>\n",
       "      <td>0.5</td>\n",
       "      <td>treatment1</td>\n",
       "    </tr>\n",
       "    <tr>\n",
       "      <th>4</th>\n",
       "      <td>4.0</td>\n",
       "      <td>treatment1</td>\n",
       "    </tr>\n",
       "    <tr>\n",
       "      <th>5</th>\n",
       "      <td>6.6</td>\n",
       "      <td>treatment1</td>\n",
       "    </tr>\n",
       "    <tr>\n",
       "      <th>6</th>\n",
       "      <td>4.5</td>\n",
       "      <td>treatment1</td>\n",
       "    </tr>\n",
       "    <tr>\n",
       "      <th>7</th>\n",
       "      <td>3.0</td>\n",
       "      <td>treatment1</td>\n",
       "    </tr>\n",
       "    <tr>\n",
       "      <th>8</th>\n",
       "      <td>4.0</td>\n",
       "      <td>treatment1</td>\n",
       "    </tr>\n",
       "    <tr>\n",
       "      <th>9</th>\n",
       "      <td>2.5</td>\n",
       "      <td>treatment1</td>\n",
       "    </tr>\n",
       "    <tr>\n",
       "      <th>10</th>\n",
       "      <td>1.0</td>\n",
       "      <td>treatment2</td>\n",
       "    </tr>\n",
       "    <tr>\n",
       "      <th>11</th>\n",
       "      <td>5.0</td>\n",
       "      <td>treatment2</td>\n",
       "    </tr>\n",
       "    <tr>\n",
       "      <th>12</th>\n",
       "      <td>4.0</td>\n",
       "      <td>treatment2</td>\n",
       "    </tr>\n",
       "    <tr>\n",
       "      <th>13</th>\n",
       "      <td>3.0</td>\n",
       "      <td>treatment2</td>\n",
       "    </tr>\n",
       "    <tr>\n",
       "      <th>14</th>\n",
       "      <td>5.0</td>\n",
       "      <td>treatment2</td>\n",
       "    </tr>\n",
       "    <tr>\n",
       "      <th>15</th>\n",
       "      <td>6.0</td>\n",
       "      <td>treatment2</td>\n",
       "    </tr>\n",
       "    <tr>\n",
       "      <th>16</th>\n",
       "      <td>4.0</td>\n",
       "      <td>treatment2</td>\n",
       "    </tr>\n",
       "    <tr>\n",
       "      <th>17</th>\n",
       "      <td>3.0</td>\n",
       "      <td>treatment2</td>\n",
       "    </tr>\n",
       "    <tr>\n",
       "      <th>18</th>\n",
       "      <td>4.5</td>\n",
       "      <td>treatment2</td>\n",
       "    </tr>\n",
       "    <tr>\n",
       "      <th>19</th>\n",
       "      <td>3.2</td>\n",
       "      <td>treatment2</td>\n",
       "    </tr>\n",
       "  </tbody>\n",
       "</table>\n",
       "</div>"
      ],
      "text/plain": [
       "    response   treatment\n",
       "0        1.5  treatment1\n",
       "1        2.0  treatment1\n",
       "2        5.0  treatment1\n",
       "3        0.5  treatment1\n",
       "4        4.0  treatment1\n",
       "5        6.6  treatment1\n",
       "6        4.5  treatment1\n",
       "7        3.0  treatment1\n",
       "8        4.0  treatment1\n",
       "9        2.5  treatment1\n",
       "10       1.0  treatment2\n",
       "11       5.0  treatment2\n",
       "12       4.0  treatment2\n",
       "13       3.0  treatment2\n",
       "14       5.0  treatment2\n",
       "15       6.0  treatment2\n",
       "16       4.0  treatment2\n",
       "17       3.0  treatment2\n",
       "18       4.5  treatment2\n",
       "19       3.2  treatment2"
      ]
     },
     "execution_count": 95,
     "metadata": {},
     "output_type": "execute_result"
    }
   ],
   "source": [
    "pt = PermTest(data)\n",
    "pt.format_data()\n",
    "pt.formatted_data"
   ]
  },
  {
   "cell_type": "markdown",
   "metadata": {},
   "source": [
    "Calculate difference of means"
   ]
  },
  {
   "cell_type": "code",
   "execution_count": 98,
   "metadata": {},
   "outputs": [
    {
     "name": "stdout",
     "output_type": "stream",
     "text": [
      "-0.51\n"
     ]
    }
   ],
   "source": [
    "print(pt.diff_means('response', 'treatment', data=None))"
   ]
  },
  {
   "cell_type": "markdown",
   "metadata": {},
   "source": [
    "Create simulated distribution of test statistics (differences of means)"
   ]
  },
  {
   "cell_type": "code",
   "execution_count": 135,
   "metadata": {
    "collapsed": true
   },
   "outputs": [],
   "source": [
    "testsimdata = pt.simPermDsn(k=1000)"
   ]
  },
  {
   "cell_type": "markdown",
   "metadata": {},
   "source": [
    "Visualize simulated distribution"
   ]
  },
  {
   "cell_type": "code",
   "execution_count": 97,
   "metadata": {},
   "outputs": [
    {
     "data": {
      "image/png": "[encoded data removed]",
      "text/plain": [
       "<matplotlib.figure.Figure at 0x116b269d0>"
      ]
     },
     "metadata": {},
     "output_type": "display_data"
    }
   ],
   "source": [
    "pt.plot_dsn(k=1000)"
   ]
  },
  {
   "cell_type": "markdown",
   "metadata": {},
   "source": [
    "Obtain p-value for test"
   ]
  },
  {
   "cell_type": "code",
   "execution_count": 99,
   "metadata": {},
   "outputs": [
    {
     "data": {
      "text/plain": [
       "0.51"
      ]
     },
     "execution_count": 99,
     "metadata": {},
     "output_type": "execute_result"
    }
   ],
   "source": [
    "pt.test()"
   ]
  },
  {
   "cell_type": "markdown",
   "metadata": {
    "collapsed": true
   },
   "source": [
    "# Chi Squared Test"
   ]
  },
  {
   "cell_type": "code",
   "execution_count": null,
   "metadata": {
    "collapsed": true
   },
   "outputs": [],
   "source": [
    "chi_squared_values = []\n",
    "for i in range(100):\n",
    "    nums = np.random.random((32561,))\n",
    "    ex = 32561/2\n",
    "    nums[nums < 0.5] = 0\n",
    "    nums[nums >= 0.5] = 1\n",
    "    male = sum(nums==0)\n",
    "    female = 32561-male\n",
    "    male_diff = (male - ex)**2 / ex\n",
    "    female_diff = (female - ex)**2 / ex\n",
    "    chi_squared_values.append(male_diff + female_diff)\n",
    "plt.hist(chi_squared_values)\n",
    "plt.show()"
   ]
  },
  {
   "cell_type": "code",
   "execution_count": null,
   "metadata": {
    "collapsed": true
   },
   "outputs": [],
   "source": [
    "# return error if unequal lengths"
   ]
  },
  {
   "cell_type": "code",
   "execution_count": 100,
   "metadata": {
    "collapsed": true
   },
   "outputs": [],
   "source": [
    "def chi_squared_statistic(o,e):\n",
    "    \"\"\"\"\"\"\n",
    "    \n",
    "    o = np.array(o)\n",
    "    e = np.array(e)\n",
    "    return np.sum(1.0*(o - e)**2 / e)\n",
    "\n",
    "\n",
    "class ChiSquaredTest():\n",
    "    \n",
    "    def __init__(self, observed=None, expected=None):\n",
    "        self.observed = observed\n",
    "        self.expected = expected\n",
    "        \n",
    "        \n",
    "    def plot_dsn(self, k=100):\n",
    "        simulated_stats = self.simPermDsn(k=k)\n",
    "        tit = \"Chi-Squared Test Statistic Distribution for k={} Simulations\".format(k)\n",
    "        plot_hist(simulated_stats, title=tit, xlabel=\"Test Statistic Value\", ylabel=\"Frequency\")\n",
    "    \n",
    "    \n",
    "    def testStat(self, input_observed=None, input_expected=None):\n",
    "        if input_observed or input_expected:\n",
    "            chisq_teststat = chi_squared_statistic(input_observed, input_expected)\n",
    "        else:\n",
    "            chisq_teststat = chi_squared_statistic(self.observed, self.expected)\n",
    "        return chisq_teststat\n",
    "    \n",
    "    def simPermDsn(self, input_observed=None, input_expected=None, k=100):\n",
    "        if input_observed or input_expected:\n",
    "            test_stat = self.testStat(input_observed, input_expected)\n",
    "            n = len(input_observed)\n",
    "        else:\n",
    "            test_stat = self.testStat()\n",
    "            n = len(self.observed)\n",
    "            \n",
    "        # create sampling distribution\n",
    "        chisqrd_vals = []\n",
    "        for i in range(k):\n",
    "            values = np.random.random((n,))\n",
    "            ex = 1.0*n/2\n",
    "            values[values<.5]=0\n",
    "            values[values>=.5]=1\n",
    "            diff1 = chi_squared_statistic(sum(values==0),ex)\n",
    "            diff2 = chi_squared_statistic(sum(values==1),ex)\n",
    "            chisqrd_vals.append(diff1+diff2)\n",
    "        return chisqrd_vals\n",
    "    \n",
    "    def pvalue(self, input_observed=None, input_expected=None):\n",
    "        \n",
    "        current_stat = self.testStat(input_observed, input_expected)\n",
    "        simulated_stats = self.simPermDsn(input_observed, input_expected)\n",
    "        \n",
    "        # p-value = proportion of test stats greater than ours\n",
    "        p_value = 1.0*sum(simulated_stats >= current_stat) / len(simulated_stats)\n",
    "        return p_value"
   ]
  },
  {
   "cell_type": "markdown",
   "metadata": {},
   "source": [
    "Create data"
   ]
  },
  {
   "cell_type": "code",
   "execution_count": 101,
   "metadata": {},
   "outputs": [
    {
     "name": "stdout",
     "output_type": "stream",
     "text": [
      "32561\n",
      "32561.0\n"
     ]
    }
   ],
   "source": [
    "obs = [26816, 3624, 1039, 311, 771]\n",
    "ex = [26146.5, 3939.9, 1044.3, 310.5, 1119.8]\n",
    "print(sum(obs))\n",
    "print(sum(ex))\n",
    "\n",
    "obs1 = [1,2,3,4,5]\n",
    "ex1 = [1,2,2,4,5]"
   ]
  },
  {
   "cell_type": "markdown",
   "metadata": {},
   "source": [
    "Create instance of `ChiSquaredTest`"
   ]
  },
  {
   "cell_type": "code",
   "execution_count": 102,
   "metadata": {
    "collapsed": true
   },
   "outputs": [],
   "source": [
    "chisq = ChiSquaredTest(obs, ex)"
   ]
  },
  {
   "cell_type": "markdown",
   "metadata": {},
   "source": [
    "Get pvalue"
   ]
  },
  {
   "cell_type": "code",
   "execution_count": 104,
   "metadata": {},
   "outputs": [
    {
     "data": {
      "text/plain": [
       "0.33"
      ]
     },
     "execution_count": 104,
     "metadata": {},
     "output_type": "execute_result"
    }
   ],
   "source": [
    "chisq.pvalue(obs1,ex1)"
   ]
  },
  {
   "cell_type": "markdown",
   "metadata": {
    "collapsed": true
   },
   "source": [
    "View bootstrapped distribution"
   ]
  },
  {
   "cell_type": "code",
   "execution_count": 105,
   "metadata": {},
   "outputs": [
    {
     "data": {
      "image/png": "[encoded data removed]",
      "text/plain": [
       "<matplotlib.figure.Figure at 0x116b0d590>"
      ]
     },
     "metadata": {},
     "output_type": "display_data"
    }
   ],
   "source": [
    "chisq.plot_dsn(k=250)"
   ]
  },
  {
   "cell_type": "code",
   "execution_count": null,
   "metadata": {
    "collapsed": true
   },
   "outputs": [],
   "source": []
  },
  {
   "cell_type": "code",
   "execution_count": 14,
   "metadata": {
    "collapsed": true
   },
   "outputs": [],
   "source": [
    "z=None"
   ]
  },
  {
   "cell_type": "code",
   "execution_count": 15,
   "metadata": {},
   "outputs": [
    {
     "data": {
      "text/plain": [
       "True"
      ]
     },
     "execution_count": 15,
     "metadata": {},
     "output_type": "execute_result"
    }
   ],
   "source": [
    "# To Implement\n",
    "\n",
    "# Levene's Test for Unequal Variances\n",
    "# Mann-Whitney Test    http://www.stat.wisc.edu/~st571-1/Fall2005/lec18-21.1.pdf\n",
    "# t-test\n",
    "# ANOVA  http://www.marsja.se/four-ways-to-conduct-one-way-anovas-using-python/\n",
    "z==None"
   ]
  },
  {
   "cell_type": "code",
   "execution_count": null,
   "metadata": {
    "collapsed": true
   },
   "outputs": [],
   "source": []
  }
 ],
 "metadata": {
  "kernelspec": {
   "display_name": "Python 2",
   "language": "python",
   "name": "python2"
  },
  "language_info": {
   "codemirror_mode": {
    "name": "ipython",
    "version": 2
   },
   "file_extension": ".py",
   "mimetype": "text/x-python",
   "name": "python",
   "nbconvert_exporter": "python",
   "pygments_lexer": "ipython2",
   "version": "2.7.13"
  }
 },
 "nbformat": 4,
 "nbformat_minor": 2
}
